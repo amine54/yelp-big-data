{
 "cells": [
  {
   "cell_type": "code",
   "execution_count": 1,
   "id": "b01c83b6-ef54-4858-914f-a26943aa778a",
   "metadata": {},
   "outputs": [],
   "source": [
    "import os\n",
    "from pyspark.sql import SparkSession\n",
    "from pyspark.sql.functions import col, count, avg, explode, split, lower, dayofweek, year, hour, row_number\n",
    "from pyspark.sql.window import Window\n",
    "import matplotlib.pyplot as plt\n",
    "from wordcloud import WordCloud\n",
    "import nltk\n",
    "from nltk.corpus import stopwords\n",
    "import networkx as nx"
   ]
  },
  {
   "cell_type": "code",
   "execution_count": null,
   "id": "184c5d3a-d616-4989-84b7-c8dee7b0bdc8",
   "metadata": {},
   "outputs": [],
   "source": [
    "# Set up the Spark session\n",
    "spark = SparkSession.builder \\\n",
    "    .appName(\"YelpBusinessAnalysis\") \\\n",
    "    .getOrCreate()"
   ]
  },
  {
   "cell_type": "code",
   "execution_count": null,
   "id": "78c53e10-1c6f-4a5f-aa58-3474b3da3a8b",
   "metadata": {},
   "outputs": [],
   "source": []
  }
 ],
 "metadata": {
  "kernelspec": {
   "display_name": "Python 3 (ipykernel)",
   "language": "python",
   "name": "python3"
  },
  "language_info": {
   "codemirror_mode": {
    "name": "ipython",
    "version": 3
   },
   "file_extension": ".py",
   "mimetype": "text/x-python",
   "name": "python",
   "nbconvert_exporter": "python",
   "pygments_lexer": "ipython3",
   "version": "3.10.12"
  }
 },
 "nbformat": 4,
 "nbformat_minor": 5
}
