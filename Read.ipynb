{
 "cells": [
  {
   "cell_type": "code",
   "execution_count": 1,
   "id": "b01c83b6-ef54-4858-914f-a26943aa778a",
   "metadata": {},
   "outputs": [],
   "source": [
    "import os\n",
    "from pyspark.sql import SparkSession\n",
    "from pyspark.sql.functions import col, count, avg, explode, split, lower, dayofweek, year, hour, row_number\n",
    "from pyspark.sql.window import Window\n",
    "import matplotlib.pyplot as plt\n",
    "from wordcloud import WordCloud\n",
    "import nltk\n",
    "from nltk.corpus import stopwords\n",
    "import networkx as nx"
   ]
  },
  {
   "cell_type": "code",
   "execution_count": 4,
   "id": "184c5d3a-d616-4989-84b7-c8dee7b0bdc8",
   "metadata": {},
   "outputs": [],
   "source": [
    "# Set up the Spark session\n",
    "spark = SparkSession.builder \\\n",
    "    .appName(\"YelpBusinessAnalysis\") \\\n",
    "    .getOrCreate()"
   ]
  },
  {
   "cell_type": "code",
   "execution_count": 5,
   "id": "78c53e10-1c6f-4a5f-aa58-3474b3da3a8b",
   "metadata": {},
   "outputs": [],
   "source": [
    "# Set HDFS file paths\n",
    "hdfs_business_path = \"hdfs://node-master:9000/user/karim/yelp/business/yelp_academic_dataset_business.json\"  # Change this to your HDFS path\n",
    "hdfs_review_path = \"hdfs://node-master:9000/user/karim/yelp/review/yelp_academic_dataset_review.json\"  # Change this to your HDFS path\n",
    "hdfs_user_path = \"hdfs://node-master:9000/user/karim/yelp/user/yelp_academic_dataset_user.json\"  # Change this to your HDFS path\n",
    "hdfs_checkin_path = \"hdfs://node-master:9000/user/karim/yelp/checkin/yelp_academic_dataset_checkin.json\"  # Change this to your HDFS path\n",
    "hdfs_tip_path = \"hdfs://node-master:9000/user/karim/yelp/tip/yelp_academic_dataset_tip.json\""
   ]
  },
  {
   "cell_type": "code",
   "execution_count": 6,
   "id": "3b9af5c1-89c5-4494-b3ff-c0ac98935454",
   "metadata": {},
   "outputs": [
    {
     "name": "stderr",
     "output_type": "stream",
     "text": [
      "25/03/12 02:44:37 WARN SparkStringUtils: Truncated the string representation of a plan since it was too large. This behavior can be adjusted by setting 'spark.sql.debug.maxToStringFields'.\n"
     ]
    }
   ],
   "source": [
    "# Load the business data from HDFS\n",
    "df_business = spark.read.json(hdfs_business_path)"
   ]
  },
  {
   "cell_type": "code",
   "execution_count": 7,
   "id": "3487601f-f5b0-468b-bef1-e27d98a3112f",
   "metadata": {},
   "outputs": [
    {
     "name": "stdout",
     "output_type": "stream",
     "text": [
      "Top 10 businesses with the highest star rating:\n"
     ]
    },
    {
     "name": "stderr",
     "output_type": "stream",
     "text": [
      "                                                                                "
     ]
    },
    {
     "name": "stdout",
     "output_type": "stream",
     "text": [
      "+--------------------+--------------------+--------------------+--------------------+-------------+--------------------+-------+----------+------------+--------------------+-----------+------------+-----+-----+\n",
      "|             address|          attributes|         business_id|          categories|         city|               hours|is_open|  latitude|   longitude|                name|postal_code|review_count|stars|state|\n",
      "+--------------------+--------------------+--------------------+--------------------+-------------+--------------------+-------+----------+------------+--------------------+-----------+------------+-----+-----+\n",
      "|       662 Durham Rd|                NULL|PSo_C1Sfa13JHjzVN...|Pet Services, Pet...|      Newtown|{8:0-17:0, 8:0-19...|      1|40.2734926|  -74.987496|Indian Walk Veter...|      18940|          15|  5.0|   PA|\n",
      "|  2226 Frankford Ave|{NULL, NULL, NULL...|Gvi0ZAy2iuB2SHHMi...|Waxing, Hair Remo...| Philadelphia|{10:0-18:0, 0:0-0...|      1| 39.980297| -75.1290209|        Salon Masaya|      19125|          15|  5.0|   PA|\n",
      "|    10588 109 Street|{NULL, NULL, u'no...|cVBxfMC4lp3DnocjY...|Coffee & Tea, Caf...|     Edmonton|{10:0-20:0, 0:0-0...|      0|53.5496333|-113.5087799|   Paws The Cat Cafe|    T5H 3B2|          20|  5.0|   AB|\n",
      "|Enjoy Centre, 101...|{NULL, NULL, NULL...|T5cUsU60juLWFnark...|Food, Specialty Food|   St. Albert|{9:0-18:0, 0:0-0:...|      1| 53.611827| -113.646416|Evoolution Enjoy ...|    T8N 3X4|           6|  5.0|   AB|\n",
      "| 1301 N Milwaukee St|{NULL, NULL, NULL...|fvWn8oXXwbj2l79co...|Trampoline Parks,...|        Boise|{10:0-22:0, 10:0-...|      1|43.6167635|-116.2853821|Altitude Trampoli...|      83704|          30|  5.0|   ID|\n",
      "|4009 Hillsboro Pi...|{NULL, NULL, NULL...|EI_vnL8ZCWBcsmD9_...|Makeup Artists, S...|    Nashville|{9:30-17:30, 9:30...|      1| 36.104219|  -86.815897|     Private Edition|      37215|          20|  5.0|   TN|\n",
      "|   15 N Missouri Ave|{NULL, NULL, NULL...|jaxMSoInw8Poo3XeM...|General Dentistry...|   Clearwater|{NULL, 7:30-15:30...|      1| 27.966235|  -82.787412|        Adams Dental|      33755|          10|  5.0|   FL|\n",
      "|                    |{NULL, NULL, NULL...|rPltlVa25codBAOoJ...|Dentists, Health ...| Philadelphia|                NULL|      1|39.9556241| -75.1647529|Francis J Smithga...|      19102|           5|  5.0|   PA|\n",
      "|1616 Chapala St, ...|{NULL, NULL, NULL...|Pns2l4eNsfO8kk83d...|Doctors, Traditio...|Santa Barbara|                NULL|      0|34.4266787|-119.7111968|Abby Rappoport, L...|      93101|           7|  5.0|   CA|\n",
      "|    4558 Oak Glen Dr|{NULL, NULL, NULL...|NmFL1JMolumzGsO2X...|Videographers, Ev...|Santa Barbara|{9:0-17:0, 9:0-17...|      1|34.4485302|-119.7810989| Riviera Productions|      93110|          16|  5.0|   CA|\n",
      "+--------------------+--------------------+--------------------+--------------------+-------------+--------------------+-------+----------+------------+--------------------+-----------+------------+-----+-----+\n",
      "\n"
     ]
    }
   ],
   "source": [
    "# Top 10 businesses with the highest star rating\n",
    "top_10_businesses = df_business.orderBy('stars', ascending=False).limit(10)\n",
    "print(\"Top 10 businesses with the highest star rating:\")\n",
    "top_10_businesses.show()"
   ]
  },
  {
   "cell_type": "code",
   "execution_count": null,
   "id": "1b70be7e-4930-4b08-8531-e55c01999444",
   "metadata": {},
   "outputs": [],
   "source": []
  }
 ],
 "metadata": {
  "kernelspec": {
   "display_name": "Python 3 (ipykernel)",
   "language": "python",
   "name": "python3"
  },
  "language_info": {
   "codemirror_mode": {
    "name": "ipython",
    "version": 3
   },
   "file_extension": ".py",
   "mimetype": "text/x-python",
   "name": "python",
   "nbconvert_exporter": "python",
   "pygments_lexer": "ipython3",
   "version": "3.10.12"
  }
 },
 "nbformat": 4,
 "nbformat_minor": 5
}
